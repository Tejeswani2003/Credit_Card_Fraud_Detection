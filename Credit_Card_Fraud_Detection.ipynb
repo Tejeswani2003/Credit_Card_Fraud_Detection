{
  "cells": [
    {
      "cell_type": "code",
      "execution_count": 6,
      "metadata": {},
      "outputs": [
        {
          "name": "stdout",
          "output_type": "stream",
          "text": [
            "Collecting xgboost\n",
            "  Using cached xgboost-3.0.2-py3-none-win_amd64.whl.metadata (2.1 kB)\n",
            "Requirement already satisfied: numpy in c:\\users\\edama\\anaconda3\\lib\\site-packages (from xgboost) (1.26.4)\n",
            "Requirement already satisfied: scipy in c:\\users\\edama\\anaconda3\\lib\\site-packages (from xgboost) (1.13.1)\n",
            "Downloading xgboost-3.0.2-py3-none-win_amd64.whl (150.0 MB)\n",
            "   ---------------------------------------- 0.0/150.0 MB ? eta -:--:--\n",
            "   ---------------------------------------- 0.0/150.0 MB ? eta -:--:--\n",
            "   ---------------------------------------- 0.0/150.0 MB ? eta -:--:--\n",
            "   ---------------------------------------- 0.3/150.0 MB ? eta -:--:--\n",
            "   ---------------------------------------- 0.3/150.0 MB ? eta -:--:--\n",
            "   ---------------------------------------- 0.5/150.0 MB 699.0 kB/s eta 0:03:34\n",
            "   ---------------------------------------- 0.8/150.0 MB 882.6 kB/s eta 0:02:50\n",
            "   ---------------------------------------- 1.0/150.0 MB 986.7 kB/s eta 0:02:31\n",
            "   ---------------------------------------- 1.3/150.0 MB 894.7 kB/s eta 0:02:47\n",
            "   ---------------------------------------- 1.3/150.0 MB 894.7 kB/s eta 0:02:47\n",
            "   ---------------------------------------- 1.6/150.0 MB 873.8 kB/s eta 0:02:50\n",
            "   ---------------------------------------- 1.6/150.0 MB 873.8 kB/s eta 0:02:50\n",
            "   ---------------------------------------- 1.8/150.0 MB 774.0 kB/s eta 0:03:12\n",
            "   ---------------------------------------- 1.8/150.0 MB 774.0 kB/s eta 0:03:12\n",
            "   ---------------------------------------- 1.8/150.0 MB 774.0 kB/s eta 0:03:12\n",
            "    --------------------------------------- 2.4/150.0 MB 784.9 kB/s eta 0:03:09\n",
            "    --------------------------------------- 2.6/150.0 MB 829.6 kB/s eta 0:02:58\n",
            "    --------------------------------------- 3.1/150.0 MB 927.2 kB/s eta 0:02:39\n",
            "    --------------------------------------- 3.4/150.0 MB 972.4 kB/s eta 0:02:31\n",
            "   - -------------------------------------- 3.9/150.0 MB 1.1 MB/s eta 0:02:17\n",
            "   - -------------------------------------- 4.5/150.0 MB 1.2 MB/s eta 0:02:07\n",
            "   - -------------------------------------- 5.0/150.0 MB 1.2 MB/s eta 0:01:59\n",
            "   - -------------------------------------- 5.8/150.0 MB 1.3 MB/s eta 0:01:49\n",
            "   - -------------------------------------- 6.3/150.0 MB 1.4 MB/s eta 0:01:44\n",
            "   - -------------------------------------- 6.8/150.0 MB 1.5 MB/s eta 0:01:39\n",
            "   - -------------------------------------- 7.3/150.0 MB 1.5 MB/s eta 0:01:35\n",
            "   -- ------------------------------------- 7.9/150.0 MB 1.5 MB/s eta 0:01:32\n",
            "   -- ------------------------------------- 8.7/150.0 MB 1.6 MB/s eta 0:01:27\n",
            "   -- ------------------------------------- 9.2/150.0 MB 1.7 MB/s eta 0:01:24\n",
            "   -- ------------------------------------- 10.0/150.0 MB 1.7 MB/s eta 0:01:21\n",
            "   -- ------------------------------------- 10.7/150.0 MB 1.8 MB/s eta 0:01:18\n",
            "   --- ------------------------------------ 11.3/150.0 MB 1.8 MB/s eta 0:01:16\n",
            "   --- ------------------------------------ 11.8/150.0 MB 1.9 MB/s eta 0:01:14\n",
            "   --- ------------------------------------ 12.6/150.0 MB 1.9 MB/s eta 0:01:12\n",
            "   --- ------------------------------------ 13.1/150.0 MB 2.0 MB/s eta 0:01:11\n",
            "   --- ------------------------------------ 13.9/150.0 MB 2.0 MB/s eta 0:01:09\n",
            "   --- ------------------------------------ 14.4/150.0 MB 2.0 MB/s eta 0:01:08\n",
            "   --- ------------------------------------ 14.9/150.0 MB 2.0 MB/s eta 0:01:07\n",
            "   ---- ----------------------------------- 15.5/150.0 MB 2.1 MB/s eta 0:01:06\n",
            "   ---- ----------------------------------- 16.0/150.0 MB 2.1 MB/s eta 0:01:05\n",
            "   ---- ----------------------------------- 16.5/150.0 MB 2.1 MB/s eta 0:01:05\n",
            "   ---- ----------------------------------- 16.8/150.0 MB 2.0 MB/s eta 0:01:06\n",
            "   ---- ----------------------------------- 17.0/150.0 MB 2.0 MB/s eta 0:01:06\n",
            "   ---- ----------------------------------- 17.3/150.0 MB 2.0 MB/s eta 0:01:06\n",
            "   ---- ----------------------------------- 17.8/150.0 MB 2.0 MB/s eta 0:01:06\n",
            "   ---- ----------------------------------- 18.1/150.0 MB 2.0 MB/s eta 0:01:06\n",
            "   ---- ----------------------------------- 18.6/150.0 MB 2.0 MB/s eta 0:01:06\n",
            "   ----- ---------------------------------- 18.9/150.0 MB 2.0 MB/s eta 0:01:07\n",
            "   ----- ---------------------------------- 19.1/150.0 MB 2.0 MB/s eta 0:01:07\n",
            "   ----- ---------------------------------- 19.9/150.0 MB 2.0 MB/s eta 0:01:06\n",
            "   ----- ---------------------------------- 20.4/150.0 MB 2.0 MB/s eta 0:01:05\n",
            "   ----- ---------------------------------- 21.2/150.0 MB 2.0 MB/s eta 0:01:03\n",
            "   ----- ---------------------------------- 22.0/150.0 MB 2.1 MB/s eta 0:01:02\n",
            "   ------ --------------------------------- 23.1/150.0 MB 2.1 MB/s eta 0:01:00\n",
            "   ------ --------------------------------- 23.6/150.0 MB 2.1 MB/s eta 0:00:59\n",
            "   ------ --------------------------------- 23.9/150.0 MB 2.1 MB/s eta 0:01:00\n",
            "   ------ --------------------------------- 24.4/150.0 MB 2.1 MB/s eta 0:00:59\n",
            "   ------ --------------------------------- 24.9/150.0 MB 2.1 MB/s eta 0:00:59\n",
            "   ------ --------------------------------- 25.2/150.0 MB 2.1 MB/s eta 0:00:59\n",
            "   ------ --------------------------------- 25.4/150.0 MB 2.1 MB/s eta 0:00:59\n",
            "   ------ --------------------------------- 26.0/150.0 MB 2.1 MB/s eta 0:00:59\n",
            "   ------- -------------------------------- 26.5/150.0 MB 2.1 MB/s eta 0:00:59\n",
            "   ------- -------------------------------- 27.3/150.0 MB 2.2 MB/s eta 0:00:58\n",
            "   ------- -------------------------------- 28.0/150.0 MB 2.2 MB/s eta 0:00:56\n",
            "   ------- -------------------------------- 28.8/150.0 MB 2.2 MB/s eta 0:00:55\n",
            "   ------- -------------------------------- 29.4/150.0 MB 2.2 MB/s eta 0:00:55\n",
            "   ------- -------------------------------- 29.6/150.0 MB 2.2 MB/s eta 0:00:55\n",
            "   -------- ------------------------------- 30.1/150.0 MB 2.2 MB/s eta 0:00:55\n",
            "   -------- ------------------------------- 30.4/150.0 MB 2.2 MB/s eta 0:00:55\n",
            "   -------- ------------------------------- 30.9/150.0 MB 2.2 MB/s eta 0:00:55\n",
            "   -------- ------------------------------- 31.7/150.0 MB 2.2 MB/s eta 0:00:54\n",
            "   -------- ------------------------------- 32.5/150.0 MB 2.2 MB/s eta 0:00:53\n",
            "   -------- ------------------------------- 33.3/150.0 MB 2.3 MB/s eta 0:00:52\n",
            "   -------- ------------------------------- 33.6/150.0 MB 2.3 MB/s eta 0:00:52\n",
            "   --------- ------------------------------ 33.8/150.0 MB 2.3 MB/s eta 0:00:52\n",
            "   --------- ------------------------------ 34.1/150.0 MB 2.2 MB/s eta 0:00:53\n",
            "   --------- ------------------------------ 34.3/150.0 MB 2.2 MB/s eta 0:00:53\n",
            "   --------- ------------------------------ 34.6/150.0 MB 2.2 MB/s eta 0:00:53\n",
            "   --------- ------------------------------ 35.1/150.0 MB 2.2 MB/s eta 0:00:53\n",
            "   --------- ------------------------------ 35.9/150.0 MB 2.2 MB/s eta 0:00:52\n",
            "   --------- ------------------------------ 36.4/150.0 MB 2.2 MB/s eta 0:00:52\n",
            "   --------- ------------------------------ 37.0/150.0 MB 2.2 MB/s eta 0:00:51\n",
            "   --------- ------------------------------ 37.0/150.0 MB 2.2 MB/s eta 0:00:51\n",
            "   --------- ------------------------------ 37.2/150.0 MB 2.2 MB/s eta 0:00:52\n",
            "   --------- ------------------------------ 37.5/150.0 MB 2.2 MB/s eta 0:00:52\n",
            "   ---------- ----------------------------- 37.7/150.0 MB 2.2 MB/s eta 0:00:52\n",
            "   ---------- ----------------------------- 37.7/150.0 MB 2.2 MB/s eta 0:00:52\n",
            "   ---------- ----------------------------- 38.0/150.0 MB 2.1 MB/s eta 0:00:53\n",
            "   ---------- ----------------------------- 38.3/150.0 MB 2.1 MB/s eta 0:00:54\n",
            "   ---------- ----------------------------- 38.3/150.0 MB 2.1 MB/s eta 0:00:54\n",
            "   ---------- ----------------------------- 38.5/150.0 MB 2.1 MB/s eta 0:00:54\n",
            "   ---------- ----------------------------- 38.5/150.0 MB 2.1 MB/s eta 0:00:54\n",
            "   ---------- ----------------------------- 38.8/150.0 MB 2.0 MB/s eta 0:00:55\n",
            "   ---------- ----------------------------- 38.8/150.0 MB 2.0 MB/s eta 0:00:55\n",
            "   ---------- ----------------------------- 38.8/150.0 MB 2.0 MB/s eta 0:00:55\n",
            "   ---------- ----------------------------- 38.8/150.0 MB 2.0 MB/s eta 0:00:55\n",
            "   ---------- ----------------------------- 38.8/150.0 MB 2.0 MB/s eta 0:00:55\n",
            "   ---------- ----------------------------- 38.8/150.0 MB 2.0 MB/s eta 0:00:55\n",
            "   ---------- ----------------------------- 38.8/150.0 MB 2.0 MB/s eta 0:00:55\n",
            "   ---------- ----------------------------- 39.3/150.0 MB 1.9 MB/s eta 0:00:58\n",
            "   ---------- ----------------------------- 39.3/150.0 MB 1.9 MB/s eta 0:00:58\n",
            "   ---------- ----------------------------- 39.6/150.0 MB 1.9 MB/s eta 0:00:58\n",
            "   ---------- ----------------------------- 39.6/150.0 MB 1.9 MB/s eta 0:00:58\n",
            "   ---------- ----------------------------- 39.6/150.0 MB 1.9 MB/s eta 0:00:58\n",
            "   ---------- ----------------------------- 39.6/150.0 MB 1.9 MB/s eta 0:00:58\n",
            "   ---------- ----------------------------- 39.6/150.0 MB 1.9 MB/s eta 0:00:58\n",
            "   ---------- ----------------------------- 39.6/150.0 MB 1.9 MB/s eta 0:00:58\n",
            "   ---------- ----------------------------- 39.6/150.0 MB 1.9 MB/s eta 0:00:58\n",
            "   ---------- ----------------------------- 39.8/150.0 MB 1.8 MB/s eta 0:01:03\n",
            "   ---------- ----------------------------- 40.4/150.0 MB 1.8 MB/s eta 0:01:02\n",
            "   ---------- ----------------------------- 40.4/150.0 MB 1.8 MB/s eta 0:01:02\n",
            "   ---------- ----------------------------- 40.6/150.0 MB 1.8 MB/s eta 0:01:02\n",
            "   ---------- ----------------------------- 40.9/150.0 MB 1.8 MB/s eta 0:01:02\n",
            "   ---------- ----------------------------- 41.2/150.0 MB 1.8 MB/s eta 0:01:02\n",
            "   ----------- ---------------------------- 41.7/150.0 MB 1.8 MB/s eta 0:01:02\n",
            "   ----------- ---------------------------- 41.9/150.0 MB 1.8 MB/s eta 0:01:02\n",
            "   ----------- ---------------------------- 42.5/150.0 MB 1.8 MB/s eta 0:01:01\n",
            "   ----------- ---------------------------- 42.5/150.0 MB 1.8 MB/s eta 0:01:01\n",
            "   ----------- ---------------------------- 43.3/150.0 MB 1.8 MB/s eta 0:01:01\n",
            "   ----------- ---------------------------- 43.8/150.0 MB 1.8 MB/s eta 0:01:01\n",
            "   ----------- ---------------------------- 44.3/150.0 MB 1.8 MB/s eta 0:01:00\n",
            "   ----------- ---------------------------- 44.8/150.0 MB 1.8 MB/s eta 0:01:00\n",
            "   ------------ --------------------------- 45.1/150.0 MB 1.8 MB/s eta 0:00:59\n",
            "   ------------ --------------------------- 45.9/150.0 MB 1.8 MB/s eta 0:00:59\n",
            "   ------------ --------------------------- 46.4/150.0 MB 1.8 MB/s eta 0:00:58\n",
            "   ------------ --------------------------- 46.9/150.0 MB 1.8 MB/s eta 0:00:58\n",
            "   ------------ --------------------------- 47.7/150.0 MB 1.8 MB/s eta 0:00:57\n",
            "   ------------ --------------------------- 48.2/150.0 MB 1.8 MB/s eta 0:00:56\n",
            "   ------------- -------------------------- 49.0/150.0 MB 1.8 MB/s eta 0:00:55\n",
            "   ------------- -------------------------- 49.5/150.0 MB 1.8 MB/s eta 0:00:55\n",
            "   ------------- -------------------------- 50.3/150.0 MB 1.9 MB/s eta 0:00:54\n",
            "   ------------- -------------------------- 51.1/150.0 MB 1.9 MB/s eta 0:00:53\n",
            "   ------------- -------------------------- 51.9/150.0 MB 1.9 MB/s eta 0:00:52\n",
            "   ------------- -------------------------- 52.4/150.0 MB 1.9 MB/s eta 0:00:52\n",
            "   -------------- ------------------------- 53.5/150.0 MB 1.9 MB/s eta 0:00:51\n",
            "   -------------- ------------------------- 54.3/150.0 MB 1.9 MB/s eta 0:00:50\n",
            "   -------------- ------------------------- 55.1/150.0 MB 1.9 MB/s eta 0:00:49\n",
            "   -------------- ------------------------- 55.6/150.0 MB 2.0 MB/s eta 0:00:49\n",
            "   --------------- ------------------------ 56.4/150.0 MB 2.0 MB/s eta 0:00:48\n",
            "   --------------- ------------------------ 57.1/150.0 MB 2.0 MB/s eta 0:00:47\n",
            "   --------------- ------------------------ 57.9/150.0 MB 2.0 MB/s eta 0:00:47\n",
            "   --------------- ------------------------ 59.0/150.0 MB 2.0 MB/s eta 0:00:46\n",
            "   --------------- ------------------------ 59.5/150.0 MB 2.0 MB/s eta 0:00:45\n",
            "   ---------------- ----------------------- 60.3/150.0 MB 2.0 MB/s eta 0:00:45\n",
            "   ---------------- ----------------------- 61.1/150.0 MB 2.0 MB/s eta 0:00:44\n",
            "   ---------------- ----------------------- 61.6/150.0 MB 2.1 MB/s eta 0:00:43\n",
            "   ---------------- ----------------------- 62.4/150.0 MB 2.1 MB/s eta 0:00:43\n",
            "   ---------------- ----------------------- 63.2/150.0 MB 2.1 MB/s eta 0:00:42\n",
            "   ----------------- ---------------------- 64.0/150.0 MB 2.1 MB/s eta 0:00:41\n",
            "   ----------------- ---------------------- 64.7/150.0 MB 2.1 MB/s eta 0:00:40\n",
            "   ----------------- ---------------------- 65.5/150.0 MB 2.1 MB/s eta 0:00:40\n",
            "   ----------------- ---------------------- 66.3/150.0 MB 2.2 MB/s eta 0:00:39\n",
            "   ----------------- ---------------------- 66.8/150.0 MB 2.2 MB/s eta 0:00:39\n",
            "   ----------------- ---------------------- 67.4/150.0 MB 2.2 MB/s eta 0:00:38\n",
            "   ------------------ --------------------- 67.6/150.0 MB 2.2 MB/s eta 0:00:38\n",
            "   ------------------ --------------------- 68.2/150.0 MB 2.2 MB/s eta 0:00:37\n",
            "   ------------------ --------------------- 68.7/150.0 MB 2.2 MB/s eta 0:00:37\n",
            "   ------------------ --------------------- 69.2/150.0 MB 2.2 MB/s eta 0:00:37\n",
            "   ------------------ --------------------- 69.7/150.0 MB 2.2 MB/s eta 0:00:36\n",
            "   ------------------ --------------------- 70.5/150.0 MB 2.3 MB/s eta 0:00:36\n",
            "   ------------------ --------------------- 71.0/150.0 MB 2.3 MB/s eta 0:00:35\n",
            "   ------------------- -------------------- 71.6/150.0 MB 2.3 MB/s eta 0:00:35\n",
            "   ------------------- -------------------- 72.1/150.0 MB 2.3 MB/s eta 0:00:35\n",
            "   ------------------- -------------------- 72.6/150.0 MB 2.3 MB/s eta 0:00:35\n",
            "   ------------------- -------------------- 73.1/150.0 MB 2.3 MB/s eta 0:00:35\n",
            "   ------------------- -------------------- 73.7/150.0 MB 2.3 MB/s eta 0:00:34\n",
            "   ------------------- -------------------- 74.4/150.0 MB 2.3 MB/s eta 0:00:34\n",
            "   ------------------- -------------------- 75.0/150.0 MB 2.3 MB/s eta 0:00:34\n",
            "   -------------------- ------------------- 75.5/150.0 MB 2.3 MB/s eta 0:00:34\n",
            "   -------------------- ------------------- 76.3/150.0 MB 2.3 MB/s eta 0:00:33\n",
            "   -------------------- ------------------- 77.1/150.0 MB 2.3 MB/s eta 0:00:33\n",
            "   -------------------- ------------------- 77.9/150.0 MB 2.3 MB/s eta 0:00:32\n",
            "   -------------------- ------------------- 78.6/150.0 MB 2.3 MB/s eta 0:00:32\n",
            "   --------------------- ------------------ 79.4/150.0 MB 2.3 MB/s eta 0:00:32\n",
            "   --------------------- ------------------ 80.2/150.0 MB 2.3 MB/s eta 0:00:31\n",
            "   --------------------- ------------------ 80.7/150.0 MB 2.3 MB/s eta 0:00:31\n",
            "   --------------------- ------------------ 81.3/150.0 MB 2.3 MB/s eta 0:00:31\n",
            "   --------------------- ------------------ 81.5/150.0 MB 2.3 MB/s eta 0:00:31\n",
            "   --------------------- ------------------ 81.8/150.0 MB 2.3 MB/s eta 0:00:31\n",
            "   --------------------- ------------------ 82.3/150.0 MB 2.2 MB/s eta 0:00:31\n",
            "   ---------------------- ----------------- 82.6/150.0 MB 2.2 MB/s eta 0:00:31\n",
            "   ---------------------- ----------------- 83.1/150.0 MB 2.2 MB/s eta 0:00:30\n",
            "   ---------------------- ----------------- 83.6/150.0 MB 2.2 MB/s eta 0:00:30\n",
            "   ---------------------- ----------------- 84.1/150.0 MB 2.2 MB/s eta 0:00:30\n",
            "   ---------------------- ----------------- 84.9/150.0 MB 2.3 MB/s eta 0:00:29\n",
            "   ---------------------- ----------------- 85.5/150.0 MB 2.3 MB/s eta 0:00:29\n",
            "   ---------------------- ----------------- 85.7/150.0 MB 2.3 MB/s eta 0:00:29\n",
            "   ----------------------- ---------------- 86.5/150.0 MB 2.3 MB/s eta 0:00:28\n",
            "   ----------------------- ---------------- 87.3/150.0 MB 2.3 MB/s eta 0:00:28\n",
            "   ----------------------- ---------------- 88.1/150.0 MB 2.3 MB/s eta 0:00:27\n",
            "   ----------------------- ---------------- 88.9/150.0 MB 2.3 MB/s eta 0:00:27\n",
            "   ----------------------- ---------------- 89.7/150.0 MB 2.3 MB/s eta 0:00:26\n",
            "   ------------------------ --------------- 90.2/150.0 MB 2.3 MB/s eta 0:00:26\n",
            "   ------------------------ --------------- 91.0/150.0 MB 2.3 MB/s eta 0:00:26\n",
            "   ------------------------ --------------- 91.8/150.0 MB 2.3 MB/s eta 0:00:25\n",
            "   ------------------------ --------------- 92.5/150.0 MB 2.3 MB/s eta 0:00:25\n",
            "   ------------------------ --------------- 93.3/150.0 MB 2.3 MB/s eta 0:00:25\n",
            "   ------------------------- -------------- 93.8/150.0 MB 2.3 MB/s eta 0:00:25\n",
            "   ------------------------- -------------- 94.6/150.0 MB 2.3 MB/s eta 0:00:24\n",
            "   ------------------------- -------------- 95.4/150.0 MB 2.4 MB/s eta 0:00:24\n",
            "   ------------------------- -------------- 95.9/150.0 MB 2.4 MB/s eta 0:00:23\n",
            "   ------------------------- -------------- 96.7/150.0 MB 2.4 MB/s eta 0:00:23\n",
            "   ------------------------- -------------- 97.3/150.0 MB 2.4 MB/s eta 0:00:23\n",
            "   -------------------------- ------------- 98.0/150.0 MB 2.4 MB/s eta 0:00:22\n",
            "   -------------------------- ------------- 98.8/150.0 MB 2.4 MB/s eta 0:00:22\n",
            "   -------------------------- ------------- 99.6/150.0 MB 2.4 MB/s eta 0:00:22\n",
            "   -------------------------- ------------- 100.4/150.0 MB 2.4 MB/s eta 0:00:21\n",
            "   -------------------------- ------------- 101.2/150.0 MB 2.4 MB/s eta 0:00:21\n",
            "   --------------------------- ------------ 102.0/150.0 MB 2.4 MB/s eta 0:00:20\n",
            "   --------------------------- ------------ 102.8/150.0 MB 2.4 MB/s eta 0:00:20\n",
            "   --------------------------- ------------ 103.5/150.0 MB 2.4 MB/s eta 0:00:20\n",
            "   --------------------------- ------------ 104.3/150.0 MB 2.4 MB/s eta 0:00:19\n",
            "   --------------------------- ------------ 104.9/150.0 MB 2.4 MB/s eta 0:00:19\n",
            "   ---------------------------- ----------- 105.6/150.0 MB 2.4 MB/s eta 0:00:19\n",
            "   ---------------------------- ----------- 106.2/150.0 MB 2.4 MB/s eta 0:00:18\n",
            "   ---------------------------- ----------- 107.0/150.0 MB 2.4 MB/s eta 0:00:18\n",
            "   ---------------------------- ----------- 107.2/150.0 MB 2.5 MB/s eta 0:00:18\n",
            "   ---------------------------- ----------- 107.5/150.0 MB 2.5 MB/s eta 0:00:18\n",
            "   ---------------------------- ----------- 108.0/150.0 MB 2.5 MB/s eta 0:00:18\n",
            "   ---------------------------- ----------- 108.5/150.0 MB 2.5 MB/s eta 0:00:17\n",
            "   ----------------------------- ---------- 109.1/150.0 MB 2.5 MB/s eta 0:00:17\n",
            "   ----------------------------- ---------- 109.6/150.0 MB 2.5 MB/s eta 0:00:17\n",
            "   ----------------------------- ---------- 110.4/150.0 MB 2.5 MB/s eta 0:00:17\n",
            "   ----------------------------- ---------- 110.9/150.0 MB 2.5 MB/s eta 0:00:16\n",
            "   ----------------------------- ---------- 111.4/150.0 MB 2.5 MB/s eta 0:00:16\n",
            "   ----------------------------- ---------- 112.2/150.0 MB 2.5 MB/s eta 0:00:16\n",
            "   ------------------------------ --------- 113.0/150.0 MB 2.5 MB/s eta 0:00:15\n",
            "   ------------------------------ --------- 113.8/150.0 MB 2.5 MB/s eta 0:00:15\n",
            "   ------------------------------ --------- 114.6/150.0 MB 2.6 MB/s eta 0:00:14\n",
            "   ------------------------------ --------- 115.3/150.0 MB 2.6 MB/s eta 0:00:14\n",
            "   ------------------------------ --------- 116.1/150.0 MB 2.6 MB/s eta 0:00:14\n",
            "   ------------------------------- -------- 117.2/150.0 MB 2.6 MB/s eta 0:00:13\n",
            "   ------------------------------- -------- 118.0/150.0 MB 2.7 MB/s eta 0:00:12\n",
            "   ------------------------------- -------- 118.8/150.0 MB 2.7 MB/s eta 0:00:12\n",
            "   ------------------------------- -------- 119.5/150.0 MB 2.8 MB/s eta 0:00:11\n",
            "   -------------------------------- ------- 120.3/150.0 MB 2.8 MB/s eta 0:00:11\n",
            "   -------------------------------- ------- 121.1/150.0 MB 2.8 MB/s eta 0:00:11\n",
            "   -------------------------------- ------- 122.2/150.0 MB 2.9 MB/s eta 0:00:10\n",
            "   -------------------------------- ------- 122.9/150.0 MB 2.9 MB/s eta 0:00:10\n",
            "   --------------------------------- ------ 123.7/150.0 MB 2.9 MB/s eta 0:00:10\n",
            "   --------------------------------- ------ 124.5/150.0 MB 2.9 MB/s eta 0:00:09\n",
            "   --------------------------------- ------ 125.0/150.0 MB 2.9 MB/s eta 0:00:09\n",
            "   --------------------------------- ------ 125.6/150.0 MB 2.9 MB/s eta 0:00:09\n",
            "   --------------------------------- ------ 126.1/150.0 MB 3.0 MB/s eta 0:00:08\n",
            "   --------------------------------- ------ 126.9/150.0 MB 3.0 MB/s eta 0:00:08\n",
            "   --------------------------------- ------ 127.1/150.0 MB 3.0 MB/s eta 0:00:08\n",
            "   --------------------------------- ------ 127.4/150.0 MB 3.0 MB/s eta 0:00:08\n",
            "   ---------------------------------- ----- 127.7/150.0 MB 3.0 MB/s eta 0:00:08\n",
            "   ---------------------------------- ----- 127.9/150.0 MB 3.0 MB/s eta 0:00:08\n",
            "   ---------------------------------- ----- 128.2/150.0 MB 3.0 MB/s eta 0:00:08\n",
            "   ---------------------------------- ----- 128.5/150.0 MB 3.0 MB/s eta 0:00:08\n",
            "   ---------------------------------- ----- 128.5/150.0 MB 3.0 MB/s eta 0:00:08\n",
            "   ---------------------------------- ----- 128.5/150.0 MB 3.0 MB/s eta 0:00:08\n",
            "   ---------------------------------- ----- 128.5/150.0 MB 3.0 MB/s eta 0:00:08\n",
            "   ---------------------------------- ----- 129.8/150.0 MB 3.0 MB/s eta 0:00:07\n",
            "   ---------------------------------- ----- 130.0/150.0 MB 3.0 MB/s eta 0:00:07\n",
            "   ---------------------------------- ----- 130.5/150.0 MB 3.0 MB/s eta 0:00:07\n",
            "   ---------------------------------- ----- 130.8/150.0 MB 3.0 MB/s eta 0:00:07\n",
            "   ----------------------------------- ---- 131.3/150.0 MB 3.0 MB/s eta 0:00:07\n",
            "   ----------------------------------- ---- 132.4/150.0 MB 3.0 MB/s eta 0:00:06\n",
            "   ----------------------------------- ---- 132.9/150.0 MB 3.0 MB/s eta 0:00:06\n",
            "   ----------------------------------- ---- 133.4/150.0 MB 3.0 MB/s eta 0:00:06\n",
            "   ----------------------------------- ---- 133.7/150.0 MB 3.0 MB/s eta 0:00:06\n",
            "   ----------------------------------- ---- 134.2/150.0 MB 3.0 MB/s eta 0:00:06\n",
            "   ----------------------------------- ---- 134.5/150.0 MB 3.0 MB/s eta 0:00:06\n",
            "   ----------------------------------- ---- 134.7/150.0 MB 3.0 MB/s eta 0:00:06\n",
            "   ------------------------------------ --- 135.5/150.0 MB 3.0 MB/s eta 0:00:05\n",
            "   ------------------------------------ --- 136.1/150.0 MB 3.0 MB/s eta 0:00:05\n",
            "   ------------------------------------ --- 136.6/150.0 MB 3.0 MB/s eta 0:00:05\n",
            "   ------------------------------------ --- 137.1/150.0 MB 3.0 MB/s eta 0:00:05\n",
            "   ------------------------------------ --- 137.6/150.0 MB 3.0 MB/s eta 0:00:05\n",
            "   ------------------------------------ --- 138.1/150.0 MB 3.0 MB/s eta 0:00:05\n",
            "   ------------------------------------- -- 138.9/150.0 MB 3.0 MB/s eta 0:00:04\n",
            "   ------------------------------------- -- 139.7/150.0 MB 3.0 MB/s eta 0:00:04\n",
            "   ------------------------------------- -- 140.5/150.0 MB 3.0 MB/s eta 0:00:04\n",
            "   ------------------------------------- -- 141.6/150.0 MB 3.0 MB/s eta 0:00:03\n",
            "   ------------------------------------- -- 142.1/150.0 MB 3.0 MB/s eta 0:00:03\n",
            "   ------------------------------------- -- 142.3/150.0 MB 3.0 MB/s eta 0:00:03\n",
            "   -------------------------------------- - 142.9/150.0 MB 2.9 MB/s eta 0:00:03\n",
            "   -------------------------------------- - 143.4/150.0 MB 2.9 MB/s eta 0:00:03\n",
            "   -------------------------------------- - 143.7/150.0 MB 2.9 MB/s eta 0:00:03\n",
            "   -------------------------------------- - 144.2/150.0 MB 2.9 MB/s eta 0:00:03\n",
            "   -------------------------------------- - 144.4/150.0 MB 2.9 MB/s eta 0:00:02\n",
            "   -------------------------------------- - 144.7/150.0 MB 2.9 MB/s eta 0:00:02\n",
            "   -------------------------------------- - 145.0/150.0 MB 2.9 MB/s eta 0:00:02\n",
            "   -------------------------------------- - 145.8/150.0 MB 2.8 MB/s eta 0:00:02\n",
            "   ---------------------------------------  146.3/150.0 MB 2.8 MB/s eta 0:00:02\n",
            "   ---------------------------------------  146.8/150.0 MB 2.8 MB/s eta 0:00:02\n",
            "   ---------------------------------------  147.3/150.0 MB 2.8 MB/s eta 0:00:01\n",
            "   ---------------------------------------  147.8/150.0 MB 2.8 MB/s eta 0:00:01\n",
            "   ---------------------------------------  148.4/150.0 MB 2.8 MB/s eta 0:00:01\n",
            "   ---------------------------------------  148.6/150.0 MB 2.8 MB/s eta 0:00:01\n",
            "   ---------------------------------------  149.2/150.0 MB 2.8 MB/s eta 0:00:01\n",
            "   ---------------------------------------  149.4/150.0 MB 2.8 MB/s eta 0:00:01\n",
            "   ---------------------------------------  149.7/150.0 MB 2.8 MB/s eta 0:00:01\n",
            "   ---------------------------------------  149.9/150.0 MB 2.8 MB/s eta 0:00:01\n",
            "   ---------------------------------------  149.9/150.0 MB 2.8 MB/s eta 0:00:01\n",
            "   ---------------------------------------  149.9/150.0 MB 2.8 MB/s eta 0:00:01\n",
            "   ---------------------------------------- 150.0/150.0 MB 2.7 MB/s eta 0:00:00\n",
            "Installing collected packages: xgboost\n",
            "Successfully installed xgboost-3.0.2\n",
            "Note: you may need to restart the kernel to use updated packages.\n"
          ]
        }
      ],
      "source": [
        "pip install xgboost\n"
      ]
    },
    {
      "cell_type": "code",
      "execution_count": 7,
      "metadata": {
        "colab": {
          "base_uri": "https://localhost:8080/",
          "height": 71
        },
        "colab_type": "code",
        "id": "y31yoa7bqL33",
        "outputId": "79327f55-cd97-4a2f-bf8c-e476fc1aeeda"
      },
      "outputs": [],
      "source": [
        "import numpy as np\n",
        "import pandas as pd\n",
        "import matplotlib.pyplot as plt\n",
        "import seaborn as sns\n",
        "\n",
        "from sklearn.model_selection import train_test_split\n",
        "from sklearn.preprocessing import StandardScaler\n",
        "from sklearn.metrics import confusion_matrix, classification_report, accuracy_score\n",
        "from sklearn.linear_model import LogisticRegression\n",
        "from sklearn.ensemble import RandomForestClassifier\n",
        "from xgboost import XGBClassifier\n",
        "\n",
        "import warnings\n",
        "warnings.filterwarnings(\"ignore\")"
      ]
    },
    {
      "cell_type": "code",
      "execution_count": 9,
      "metadata": {
        "colab": {},
        "colab_type": "code",
        "id": "7ffqHaZx1Xkw"
      },
      "outputs": [
        {
          "data": {
            "text/plain": [
              "(284807, 31)"
            ]
          },
          "execution_count": 9,
          "metadata": {},
          "output_type": "execute_result"
        }
      ],
      "source": [
        "dataset = pd.read_csv('creditcard.csv')\n",
        "dataset.shape\n"
      ]
    },
    {
      "cell_type": "code",
      "execution_count": 10,
      "metadata": {
        "colab": {
          "base_uri": "https://localhost:8080/",
          "height": 34
        },
        "colab_type": "code",
        "id": "UpkDc61N1cvP",
        "outputId": "935edca6-b674-4d64-b8e0-689dd33b968a"
      },
      "outputs": [
        {
          "data": {
            "text/plain": [
              "Time      0\n",
              "V1        0\n",
              "V2        0\n",
              "V3        0\n",
              "V4        0\n",
              "V5        0\n",
              "V6        0\n",
              "V7        0\n",
              "V8        0\n",
              "V9        0\n",
              "V10       0\n",
              "V11       0\n",
              "V12       0\n",
              "V13       0\n",
              "V14       0\n",
              "V15       0\n",
              "V16       0\n",
              "V17       0\n",
              "V18       0\n",
              "V19       0\n",
              "V20       0\n",
              "V21       0\n",
              "V22       0\n",
              "V23       0\n",
              "V24       0\n",
              "V25       0\n",
              "V26       0\n",
              "V27       0\n",
              "V28       0\n",
              "Amount    0\n",
              "Class     0\n",
              "dtype: int64"
            ]
          },
          "execution_count": 10,
          "metadata": {},
          "output_type": "execute_result"
        }
      ],
      "source": [
        "dataset.isnull().sum()\n"
      ]
    },
    {
      "cell_type": "code",
      "execution_count": 11,
      "metadata": {
        "colab": {
          "base_uri": "https://localhost:8080/",
          "height": 561
        },
        "colab_type": "code",
        "id": "H9badv-t1fT9",
        "outputId": "6fcc47f4-9a8c-4ae2-ad96-9b18c20781e2"
      },
      "outputs": [
        {
          "data": {
            "image/png": "[encoded data removed]",
            "text/plain": [
              "<Figure size 640x480 with 1 Axes>"
            ]
          },
          "metadata": {},
          "output_type": "display_data"
        },
        {
          "name": "stdout",
          "output_type": "stream",
          "text": [
            "Class\n",
            "0    284315\n",
            "1       492\n",
            "Name: count, dtype: int64\n"
          ]
        }
      ],
      "source": [
        "sns.countplot(x='Class', data=dataset)\n",
        "plt.title(\"Class Distribution\")\n",
        "plt.show()\n",
        "print(dataset['Class'].value_counts())\n"
      ]
    },
    {
      "cell_type": "code",
      "execution_count": 19,
      "metadata": {
        "colab": {
          "base_uri": "https://localhost:8080/",
          "height": 224
        },
        "colab_type": "code",
        "id": "hK8oKL271jg5",
        "outputId": "40da6b94-03bd-4b04-b0f0-6e7348b8b4bb"
      },
      "outputs": [],
      "source": [
        "# Drop 'Time' and apply scaling to all remaining features (including 'Amount')\n",
        "X_full = dataset.drop('Class', axis=1)\n",
        "scaler = StandardScaler()\n",
        "X_scaled = scaler.fit_transform(X_full)\n",
        "X = pd.DataFrame(X_scaled, columns=X_full.columns)\n",
        "y = dataset['Class']\n"
      ]
    },
    {
      "cell_type": "code",
      "execution_count": 13,
      "metadata": {
        "colab": {
          "base_uri": "https://localhost:8080/",
          "height": 68
        },
        "colab_type": "code",
        "id": "PJVlCu6U1p20",
        "outputId": "846980c5-0ea5-4892-8ebb-b74132d1523e"
      },
      "outputs": [],
      "source": [
        "X = dataset.drop('Class', axis=1)\n",
        "y = dataset['Class']\n",
        "x_train, x_test, y_train, y_test = train_test_split(X, y, test_size=0.2, random_state=42, stratify=y)\n"
      ]
    },
    {
      "cell_type": "code",
      "execution_count": 14,
      "metadata": {
        "colab": {
          "base_uri": "https://localhost:8080/",
          "height": 296
        },
        "colab_type": "code",
        "id": "VgQ43owj1xeD",
        "outputId": "0a56667b-e252-4a8d-acf2-5b97f1213972"
      },
      "outputs": [
        {
          "name": "stdout",
          "output_type": "stream",
          "text": [
            "Logistic Regression:\n",
            "               precision    recall  f1-score   support\n",
            "\n",
            "           0       1.00      1.00      1.00     56864\n",
            "           1       0.83      0.64      0.72        98\n",
            "\n",
            "    accuracy                           1.00     56962\n",
            "   macro avg       0.91      0.82      0.86     56962\n",
            "weighted avg       1.00      1.00      1.00     56962\n",
            "\n"
          ]
        }
      ],
      "source": [
        "lr = LogisticRegression()\n",
        "lr.fit(x_train, y_train)\n",
        "y_pred_lr = lr.predict(x_test)\n",
        "print(\"Logistic Regression:\\n\", classification_report(y_test, y_pred_lr))\n"
      ]
    },
    {
      "cell_type": "code",
      "execution_count": 16,
      "metadata": {
        "colab": {
          "base_uri": "https://localhost:8080/",
          "height": 579
        },
        "colab_type": "code",
        "id": "NyT0g64612Z7",
        "outputId": "a16f982b-f2e3-4f13-adbb-6fc3201f3504"
      },
      "outputs": [
        {
          "name": "stderr",
          "output_type": "stream",
          "text": [
            "[Parallel(n_jobs=-1)]: Using backend ThreadingBackend with 8 concurrent workers.\n",
            "[Parallel(n_jobs=-1)]: Done  34 tasks      | elapsed:   26.0s\n",
            "[Parallel(n_jobs=-1)]: Done 100 out of 100 | elapsed:  1.1min finished\n",
            "[Parallel(n_jobs=8)]: Using backend ThreadingBackend with 8 concurrent workers.\n",
            "[Parallel(n_jobs=8)]: Done  34 tasks      | elapsed:    0.0s\n",
            "[Parallel(n_jobs=8)]: Done 100 out of 100 | elapsed:    0.0s finished\n"
          ]
        },
        {
          "name": "stdout",
          "output_type": "stream",
          "text": [
            "Random Forest:\n",
            "               precision    recall  f1-score   support\n",
            "\n",
            "           0       1.00      1.00      1.00     56864\n",
            "           1       0.94      0.83      0.88        98\n",
            "\n",
            "    accuracy                           1.00     56962\n",
            "   macro avg       0.97      0.91      0.94     56962\n",
            "weighted avg       1.00      1.00      1.00     56962\n",
            "\n"
          ]
        }
      ],
      "source": [
        "rf = RandomForestClassifier(n_estimators=100, random_state=42, n_jobs=-1, verbose=1)\n",
        "rf.fit(x_train, y_train)\n",
        "y_pred_rf = rf.predict(x_test)\n",
        "print(\"Random Forest:\\n\", classification_report(y_test, y_pred_rf))\n"
      ]
    },
    {
      "cell_type": "code",
      "execution_count": 17,
      "metadata": {
        "colab": {
          "base_uri": "https://localhost:8080/",
          "height": 34
        },
        "colab_type": "code",
        "id": "6lhb-oFK2ze0",
        "outputId": "c3ec5d7b-c6f5-4ad0-ea46-109d46af3af1"
      },
      "outputs": [
        {
          "name": "stdout",
          "output_type": "stream",
          "text": [
            "XGBoost:\n",
            "               precision    recall  f1-score   support\n",
            "\n",
            "           0       1.00      1.00      1.00     56864\n",
            "           1       0.88      0.80      0.83        98\n",
            "\n",
            "    accuracy                           1.00     56962\n",
            "   macro avg       0.94      0.90      0.92     56962\n",
            "weighted avg       1.00      1.00      1.00     56962\n",
            "\n"
          ]
        }
      ],
      "source": [
        "xgb = XGBClassifier(use_label_encoder=False, eval_metric='logloss')\n",
        "xgb.fit(x_train, y_train)\n",
        "y_pred_xgb = xgb.predict(x_test)\n",
        "print(\"XGBoost:\\n\", classification_report(y_test, y_pred_xgb))\n"
      ]
    },
    {
      "cell_type": "code",
      "execution_count": 20,
      "metadata": {
        "colab": {
          "base_uri": "https://localhost:8080/",
          "height": 34
        },
        "colab_type": "code",
        "id": "-_Zdm4s126HU",
        "outputId": "aa964e7c-e9ce-4e19-d3ea-3ea4deca402c"
      },
      "outputs": [
        {
          "name": "stdout",
          "output_type": "stream",
          "text": [
            "Legitimate\n"
          ]
        },
        {
          "name": "stderr",
          "output_type": "stream",
          "text": [
            "[Parallel(n_jobs=8)]: Using backend ThreadingBackend with 8 concurrent workers.\n",
            "[Parallel(n_jobs=8)]: Done  34 tasks      | elapsed:    0.0s\n",
            "[Parallel(n_jobs=8)]: Done 100 out of 100 | elapsed:    0.0s finished\n"
          ]
        }
      ],
      "source": [
        "def simulate_transaction(model, transaction_data):\n",
        "    transaction_data_scaled = scaler.transform(transaction_data)\n",
        "    prediction = model.predict(transaction_data_scaled)\n",
        "    return \"Fraudulent\" if prediction[0] == 1 else \"Legitimate\"\n",
        "\n",
        "# Example (using 1 row from test data)\n",
        "sample = x_test.iloc[10:11]\n",
        "print(simulate_transaction(rf, sample))\n"
      ]
    },
    {
      "cell_type": "code",
      "execution_count": 21,
      "metadata": {
        "colab": {},
        "colab_type": "code",
        "id": "INzvLv9E3EnJ"
      },
      "outputs": [
        {
          "name": "stderr",
          "output_type": "stream",
          "text": [
            "[Parallel(n_jobs=8)]: Using backend ThreadingBackend with 8 concurrent workers.\n",
            "[Parallel(n_jobs=8)]: Done  34 tasks      | elapsed:    0.0s\n",
            "[Parallel(n_jobs=8)]: Done 100 out of 100 | elapsed:    0.0s finished\n"
          ]
        },
        {
          "data": {
            "text/html": [
              "<div>\n",
              "<style scoped>\n",
              "    .dataframe tbody tr th:only-of-type {\n",
              "        vertical-align: middle;\n",
              "    }\n",
              "\n",
              "    .dataframe tbody tr th {\n",
              "        vertical-align: top;\n",
              "    }\n",
              "\n",
              "    .dataframe thead th {\n",
              "        text-align: right;\n",
              "    }\n",
              "</style>\n",
              "<table border=\"1\" class=\"dataframe\">\n",
              "  <thead>\n",
              "    <tr style=\"text-align: right;\">\n",
              "      <th></th>\n",
              "      <th>Time</th>\n",
              "      <th>Model</th>\n",
              "      <th>Prediction</th>\n",
              "    </tr>\n",
              "  </thead>\n",
              "  <tbody>\n",
              "    <tr>\n",
              "      <th>0</th>\n",
              "      <td>2025-06-09 11:14:01.440505</td>\n",
              "      <td>RandomForest</td>\n",
              "      <td>Legitimate</td>\n",
              "    </tr>\n",
              "  </tbody>\n",
              "</table>\n",
              "</div>"
            ],
            "text/plain": [
              "                        Time         Model  Prediction\n",
              "0 2025-06-09 11:14:01.440505  RandomForest  Legitimate"
            ]
          },
          "execution_count": 21,
          "metadata": {},
          "output_type": "execute_result"
        }
      ],
      "source": [
        "import datetime\n",
        "\n",
        "log = []\n",
        "\n",
        "def log_prediction(transaction, model_name, prediction):\n",
        "    timestamp = datetime.datetime.now()\n",
        "    log_entry = {\n",
        "        'Time': timestamp,\n",
        "        'Model': model_name,\n",
        "        'Prediction': prediction\n",
        "    }\n",
        "    log.append(log_entry)\n",
        "\n",
        "log_prediction(sample, \"RandomForest\", simulate_transaction(rf, sample))\n",
        "pd.DataFrame(log)\n"
      ]
    },
    {
      "cell_type": "code",
      "execution_count": 22,
      "metadata": {
        "colab": {
          "base_uri": "https://localhost:8080/",
          "height": 71
        },
        "colab_type": "code",
        "id": "N0B0-Nvl3NJB",
        "outputId": "463d8d8d-fa23-44df-a6d4-69a7b167da8f"
      },
      "outputs": [],
      "source": [
        "# This is just a cell to save the API as a .py file for deployment\n",
        "api_code = '''\n",
        "from flask import Flask, request, jsonify\n",
        "import numpy as np\n",
        "import joblib\n",
        "\n",
        "app = Flask(__name__)\n",
        "model = joblib.load(\"fraud_model.pkl\")\n",
        "\n",
        "@app.route(\"/predict\", methods=[\"POST\"])\n",
        "def predict():\n",
        "    data = request.json\n",
        "    features = np.array(data[\"features\"]).reshape(1, -1)\n",
        "    result = model.predict(features)\n",
        "    return jsonify({\"prediction\": int(result[0])})\n",
        "\n",
        "if __name__ == \"__main__\":\n",
        "    app.run(debug=True)\n",
        "'''\n",
        "\n",
        "with open(\"app.py\", \"w\") as f:\n",
        "    f.write(api_code)\n"
      ]
    },
    {
      "cell_type": "code",
      "execution_count": 23,
      "metadata": {
        "colab": {
          "base_uri": "https://localhost:8080/",
          "height": 34
        },
        "colab_type": "code",
        "id": "DIQbl4Eu3cso",
        "outputId": "56fc80ca-44c1-4eb8-a35a-ab6012ac7afc"
      },
      "outputs": [
        {
          "data": {
            "text/plain": [
              "['fraud_model.pkl']"
            ]
          },
          "execution_count": 23,
          "metadata": {},
          "output_type": "execute_result"
        }
      ],
      "source": [
        "import joblib\n",
        "joblib.dump(rf, \"fraud_model.pkl\")\n"
      ]
    },
    {
      "cell_type": "markdown",
      "metadata": {},
      "source": [
        "#### Regulatory Compliance\n",
        "This model adheres to data privacy principles. No personal information is stored or logged. All predictions are anonymized and logged only with metadata for monitoring. The system is designed considering GDPR compliance."
      ]
    }
  ],
  "metadata": {
    "colab": {
      "collapsed_sections": [],
      "name": "Credit Card Fraud Detection.ipynb",
      "provenance": []
    },
    "kernelspec": {
      "display_name": "base",
      "language": "python",
      "name": "python3"
    },
    "language_info": {
      "codemirror_mode": {
        "name": "ipython",
        "version": 3
      },
      "file_extension": ".py",
      "mimetype": "text/x-python",
      "name": "python",
      "nbconvert_exporter": "python",
      "pygments_lexer": "ipython3",
      "version": "3.12.7"
    }
  },
  "nbformat": 4,
  "nbformat_minor": 0
}
